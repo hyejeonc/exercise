{
 "cells": [
  {
   "cell_type": "markdown",
   "id": "95b05d4f",
   "metadata": {},
   "source": [
    "Questions and solutions \n",
    "\n",
    "1. What is a meaning of 'absolutely integrable function'?\n",
    "-. Inspired from Advanced engineering mathematics p. \n",
    "\n"
   ]
  },
  {
   "cell_type": "code",
   "execution_count": null,
   "id": "5fbcd9fb",
   "metadata": {},
   "outputs": [],
   "source": [
    "2. What is a main difference between flow work and pressure-volume work? \n",
    "-. Inspired from exergy analysis of a refrigeration process in irreversible thermodynamics course project. \n",
    "\n",
    "-. Why should we know exergy analysis and entropy production each if they can explain the lost work both with the 2nd thermodynamics law? Why should we use both of them? What is pros and cons from both? How 2nd thermodynamics law is interpreted differently into both? \n",
    "\n",
    "\n"
   ]
  },
  {
   "cell_type": "code",
   "execution_count": null,
   "id": "fa24dad6",
   "metadata": {},
   "outputs": [],
   "source": [
    "3. How can we describe a system about cavitation by extremely high pressure? \n",
    "-. Inspired from Snapping shrimp: https://www.youtube.com/watch?v=eXR--I99S60\n",
    "\n"
   ]
  },
  {
   "cell_type": "code",
   "execution_count": null,
   "id": "9a54d1c0",
   "metadata": {},
   "outputs": [],
   "source": [
    "4. How Langmuir adsorption model is exactly/first introduced?\n",
    "-. Inspired from the first paper of Langmuir model which explains adsorption with force of atoms and a layer between a solid surface: https://pubs.acs.org/doi/pdf/10.1021/ja02242a004.\n",
    "\n",
    "-. THE ADSORPTION OF GASES ON PLANE SURFACES OF GLASS, MICA AND PLATINUM.\n",
    "Irving Langmuir Cite this: J. Am. Chem. Soc. 1918, 40, 9, 1361–1403\n",
    "Publication Date:September 1, 1918\n",
    "https://doi.org/10.1021/ja02242a004"
   ]
  }
 ],
 "metadata": {
  "kernelspec": {
   "display_name": "Python 3",
   "language": "python",
   "name": "python3"
  },
  "language_info": {
   "codemirror_mode": {
    "name": "ipython",
    "version": 3
   },
   "file_extension": ".py",
   "mimetype": "text/x-python",
   "name": "python",
   "nbconvert_exporter": "python",
   "pygments_lexer": "ipython3",
   "version": "3.7.11"
  }
 },
 "nbformat": 4,
 "nbformat_minor": 5
}
